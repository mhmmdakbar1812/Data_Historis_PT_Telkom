{
  "cells": [
    {
      "cell_type": "markdown",
      "metadata": {
        "id": "cOUjf7lA6p7A"
      },
      "source": [
        "## Perbandingan Metode ARIMA dan LSTM dalam Menentukan Faktor - Faktor yang Mempengaruhi Trend pertumbuhan Saham PT. Telkom\n",
        "Nama : Muhammad Akbar Ramadhan\n",
        "\n",
        "NIM : 3332200108\n",
        "\n",
        "Kelas : NiaPY"
      ]
    },
    {
      "cell_type": "markdown",
      "metadata": {
        "id": "y9CWxvDBcrNz"
      },
      "source": [
        "## Problem Scoping"
      ]
    },
    {
      "cell_type": "markdown",
      "metadata": {
        "id": "lTDOfqxtEkw_"
      },
      "source": [
        "### **1. Latar Belakang**\n",
        "Penelitian ini dilakukan untuk menentukan faktor - faktor yang mempengaruhi trend pertumbuhan saham pada PT. Telkom\n"
      ]
    },
    {
      "cell_type": "markdown",
      "metadata": {
        "id": "KDNI9HJiEcDP"
      },
      "source": [
        "### **2. Tujuan**\n",
        "Penelitian ini bertujuan untuk membandingkan metode ARIMA dan LSTM untuk mengetahui faktor - faktor apa saja yang mempengaruhi trend pertumbuhan saham PT. Telkom"
      ]
    },
    {
      "cell_type": "markdown",
      "metadata": {
        "id": "huPS1Dd6Jd01"
      },
      "source": [
        "### **3. Rumusan Masalah**\n",
        "\n",
        "*   Apa itu metode Arima dan LTSM yang dibandingkan pada penelitian ini\n",
        "*   Manakah metode yang paling tepat untuk melakukan Forecasting pada data Saham PT. Telkom\n",
        "*   Mana akurasi terbaik dan MSE yang paling kecil diantara dua metode tersebut\n",
        "\n",
        "\n",
        "\n",
        "\n"
      ]
    },
    {
      "cell_type": "markdown",
      "metadata": {
        "id": "U3-CUoyIEvw_"
      },
      "source": [
        "### **4. Ruang Lingkup**\n",
        "Penelitian ini akan dilakukan pengambilan data saham PT. Telkom pada rentang waktu 2017 - 2022, serta faktor - faktor yang mempengaruhi trend pertumbuhan berdasarkan pada variabel yang ada pada dataset yang digunakan  "
      ]
    },
    {
      "cell_type": "markdown",
      "metadata": {
        "id": "DDctSkTMJWCp"
      },
      "source": [
        "### **5. Metodologi**\n",
        "Penelitian ini akan menggunakan data historis harga saham PT. Telkom selama periode 2017 - 2022 dengan menggunakan metode ARIMA dan LSTM untuk menganalisis faktor - faktor pengaruh trend pertumbuhan saham PT. Telkom"
      ]
    },
    {
      "cell_type": "markdown",
      "metadata": {
        "id": "f2x9yoW7DRAg"
      },
      "source": [
        "## Data Collection"
      ]
    },
    {
      "cell_type": "markdown",
      "metadata": {
        "id": "8XdLdbWxMAyF"
      },
      "source": [
        "### **1. Import Library dan Dataset**"
      ]
    },
    {
      "cell_type": "code",
      "execution_count": null,
      "metadata": {
        "id": "w-X9Wcd1L_lf"
      },
      "outputs": [],
      "source": [
        "import numpy as np\n",
        "import pandas as pd\n",
        "import matplotlib.pyplot as plt\n",
        "%matplotlib inline\n",
        "import seaborn as sns\n",
        "sns.set_theme(style=\"whitegrid\")\n",
        "import warnings\n",
        "warnings.filterwarnings(\"ignore\")\n"
      ]
    },
    {
      "cell_type": "code",
      "execution_count": null,
      "metadata": {
        "id": "TUZXZ1-5MQf8"
      },
      "outputs": [],
      "source": [
        "df = pd.read_csv('https://raw.githubusercontent.com/mhmmdakbar1812/Data_Historis_PT_Telkom/main/TLKM.JK.csv', header=None)\n",
        "df.head(10)"
      ]
    },
    {
      "cell_type": "code",
      "source": [
        "df[['Date', 'Open', 'High', 'Low', 'Close', 'Adj Close', 'Volume']] = df[0].str.split(',', expand=True)\n",
        "df.drop([0], axis=1, inplace=True)\n",
        "df.head()"
      ],
      "metadata": {
        "id": "P_0mAjqr2Gh_"
      },
      "execution_count": null,
      "outputs": []
    },
    {
      "cell_type": "markdown",
      "source": [
        "## Data Preparation"
      ],
      "metadata": {
        "id": "rD-KV8jjRZyL"
      }
    },
    {
      "cell_type": "markdown",
      "source": [
        "### **1. Menampilkan Struktur dan tipe data**"
      ],
      "metadata": {
        "id": "9e21UMoqRiCM"
      }
    },
    {
      "cell_type": "code",
      "source": [
        "df.isnull().sum()"
      ],
      "metadata": {
        "id": "giOI2rrwCOO9"
      },
      "execution_count": null,
      "outputs": []
    },
    {
      "cell_type": "code",
      "source": [
        "df.info()"
      ],
      "metadata": {
        "id": "qwIskcZaR1ln"
      },
      "execution_count": null,
      "outputs": []
    },
    {
      "cell_type": "code",
      "source": [
        "invalid_rows = pd.to_numeric(df['Open'], errors='coerce').isna()\n",
        "invalid_df = df[invalid_rows]\n",
        "print(invalid_df)"
      ],
      "metadata": {
        "id": "BZJ3kMYdEl1C"
      },
      "execution_count": null,
      "outputs": []
    },
    {
      "cell_type": "code",
      "source": [
        "df = df.drop(index=[0, 637])\n",
        "invalid_rows = pd.to_numeric(df['Open'], errors='coerce').isna()\n",
        "invalid_df = df[invalid_rows]\n",
        "print(invalid_df)"
      ],
      "metadata": {
        "id": "3r9ylyzTFczb"
      },
      "execution_count": null,
      "outputs": []
    },
    {
      "cell_type": "code",
      "source": [
        "df[['Open', 'High', 'Low', 'Close', 'Adj Close', 'Volume']] = df[['Open', 'High', 'Low', 'Close', 'Adj Close', 'Volume']].astype(float)\n",
        "df.head()"
      ],
      "metadata": {
        "id": "LEEJo-bnEQ3x"
      },
      "execution_count": null,
      "outputs": []
    },
    {
      "cell_type": "code",
      "source": [
        "df.tail()"
      ],
      "metadata": {
        "id": "-EBaXkvveeh8"
      },
      "execution_count": null,
      "outputs": []
    },
    {
      "cell_type": "markdown",
      "source": [
        "### **2. Filter Kolom yang digunakan**"
      ],
      "metadata": {
        "id": "puqcxh6nR2Dv"
      }
    },
    {
      "cell_type": "code",
      "source": [
        "df = df[['Date','Adj Close']]\n",
        "df.Date = pd.to_datetime(df.Date)\n",
        "df.set_index('Date', inplace=True)"
      ],
      "metadata": {
        "id": "UV9LOYCWTMpr"
      },
      "execution_count": null,
      "outputs": []
    },
    {
      "cell_type": "code",
      "source": [
        "plt.figure(figsize=(16,5))\n",
        "plt.plot(df['Adj Close'], c='r', label='Price stock')\n",
        "plt.plot(df['Adj Close'].rolling(22).mean(), c='g', label='Rolling - Mean')\n",
        "plt.plot(df['Adj Close'].rolling(22).std(), c='b', label='Rolling - Std.')\n",
        "plt.legend()"
      ],
      "metadata": {
        "id": "FGxmFgKZVs1S"
      },
      "execution_count": null,
      "outputs": []
    },
    {
      "cell_type": "code",
      "source": [
        "print(df.columns)"
      ],
      "metadata": {
        "id": "L7pDVF4EfdQ9"
      },
      "execution_count": null,
      "outputs": []
    },
    {
      "cell_type": "code",
      "source": [
        "df.head()"
      ],
      "metadata": {
        "id": "1_sxb2ghhhbp"
      },
      "execution_count": null,
      "outputs": []
    },
    {
      "cell_type": "markdown",
      "source": [
        "## Data Exploration"
      ],
      "metadata": {
        "id": "1_3WLOIlTqG_"
      }
    },
    {
      "cell_type": "markdown",
      "source": [
        "### **1. Identifikasi Outlier**"
      ],
      "metadata": {
        "id": "8bdbzQXCT-U2"
      }
    },
    {
      "cell_type": "code",
      "source": [
        "df.describe().round(2)"
      ],
      "metadata": {
        "id": "H0uWiQXkT9eC"
      },
      "execution_count": null,
      "outputs": []
    },
    {
      "cell_type": "code",
      "source": [
        "z_scores = (df - df.mean()) / df.std()\n",
        "threshold = 3\n",
        "outlier = z_scores[np.abs(z_scores)>threshold].index"
      ],
      "metadata": {
        "id": "HUCYbCjFiSpv"
      },
      "execution_count": null,
      "outputs": []
    },
    {
      "cell_type": "code",
      "source": [
        "plt.figure(figsize=(10,6))\n",
        "plt.scatter(df.index, df, s=4)\n",
        "plt.scatter(outlier, df.loc[outlier], color='b', s=10)\n",
        "plt.xlabel('Date')\n",
        "plt.ylabel('Adj Close')"
      ],
      "metadata": {
        "id": "cE-21eJ89bQY"
      },
      "execution_count": null,
      "outputs": []
    },
    {
      "cell_type": "markdown",
      "source": [
        "### **2. Analisa Deskriptif**"
      ],
      "metadata": {
        "id": "M7VFTDcOeJdj"
      }
    },
    {
      "cell_type": "code",
      "source": [
        "df.describe().round(2)"
      ],
      "metadata": {
        "id": "CT7ieedLeT5b"
      },
      "execution_count": null,
      "outputs": []
    },
    {
      "cell_type": "code",
      "source": [
        "from statsmodels.tsa.stattools import adfuller, kpss\n",
        "import warnings\n",
        "warnings.filterwarnings('ignore')\n",
        "\n",
        "def stationery_test(ts_data, alpha):\n",
        "  p_value_adf = adfuller(ts_data)[1]\n",
        "  p_value_kpss = kpss(ts_data)[1]\n",
        "\n",
        "  if p_value_adf<alpha:\n",
        "    adf_res = 'Tolak Ho / data stasioner'\n",
        "  else:\n",
        "    adf_res = 'Terima Ho / data tak stasioner'\n",
        "\n",
        "  if p_value_kpss<alpha:\n",
        "    kpss_res = 'Tolak Ho / data tak stasioner'\n",
        "  else:\n",
        "    kpss_res = 'Terima Ho / data stasioner'\n",
        "  \n",
        "  temp = pd.DataFrame({\n",
        "      'Uji' : ['ADF', 'KPSS'],\n",
        "      'P_value' : [p_value_adf, p_value_kpss],\n",
        "      'Alpha' : [alpha, alpha],\n",
        "      'Result' : [adf_res, kpss_res]\n",
        "  })\n",
        "\n",
        "  return temp\n",
        "\n",
        "stationery_test(df['Adj Close'], 0.05)"
      ],
      "metadata": {
        "id": "Uo2Wui8O-9rF"
      },
      "execution_count": null,
      "outputs": []
    },
    {
      "cell_type": "markdown",
      "source": [
        "P-Value > alpha sehingga pada uji Adf tak stasioner\n",
        "\n",
        "P-Value < alpha sehingga pada uji kpss tak stasioner\n"
      ],
      "metadata": {
        "id": "o_X5QlOhAbbT"
      }
    },
    {
      "cell_type": "markdown",
      "source": [
        "### **3. Analisa Time Series**"
      ],
      "metadata": {
        "id": "j3fPjD-OeYxy"
      }
    },
    {
      "cell_type": "code",
      "source": [
        "from scipy.stats import boxcox\n",
        "\n",
        "# Apply Box-Cox transformation\n",
        "df_boxcox, lam = boxcox(df['Adj Close'])\n",
        "df['Adj Close Box-Cox'] = df_boxcox\n",
        "\n",
        "# Perform first difference on Box-Cox transformed data\n",
        "difference_boxcox = pd.Series(df_boxcox).diff().dropna()\n",
        "\n",
        "# Plot transformed and differenced data\n",
        "fig, ax = plt.subplots(2,1, figsize=(12,8))\n",
        "ax[0].plot(df.index, df['Adj Close'], label='Original')\n",
        "ax[0].plot(df.index, df_boxcox, label='Box-Cox Transformed')\n",
        "ax[0].set_ylabel('Value')\n",
        "ax[0].legend()\n",
        "ax[1].plot(df.index[1:], difference_boxcox, label='First Difference of Box-Cox Transformed')\n",
        "ax[1].set_ylabel('Value')\n",
        "ax[1].legend()\n",
        "plt.show()"
      ],
      "metadata": {
        "id": "hWJVAq4B5zVb"
      },
      "execution_count": null,
      "outputs": []
    },
    {
      "cell_type": "code",
      "source": [
        "difference_boxcox.head()"
      ],
      "metadata": {
        "id": "5XpU3lpMBEML"
      },
      "execution_count": null,
      "outputs": []
    },
    {
      "cell_type": "code",
      "source": [
        "#differencing data\n",
        "\"\"\"\n",
        "window_size = 12\n",
        "df_diff = df['Adj Close'].rolling(window_size).mean()\n",
        "df_diff1 = df['Adj Close'] - df['Adj Close'].shift()\n",
        "df_diff1.head()\n",
        "\"\"\""
      ],
      "metadata": {
        "id": "4-l2ADiKeknV"
      },
      "execution_count": null,
      "outputs": []
    },
    {
      "cell_type": "code",
      "source": [
        "#df_diff1 = df_diff - df_diff.shift()\n",
        "#df_diff1.dropna(inplace=True)\n",
        "plt.figure(figsize=(16,5))\n",
        "plt.plot(difference_boxcox, c='r', label='Price stock')\n",
        "plt.plot(difference_boxcox.rolling(22).mean(), c='g', label='Rolling - Mean')\n",
        "plt.plot(difference_boxcox.rolling(22).std(), c='b', label='Rolling - Std.')\n",
        "plt.legend()"
      ],
      "metadata": {
        "id": "xGCcUfnjiWHl"
      },
      "execution_count": null,
      "outputs": []
    },
    {
      "cell_type": "code",
      "source": [
        "stationery_test(difference_boxcox, 0.05)"
      ],
      "metadata": {
        "id": "h1gpWYiLCpJW"
      },
      "execution_count": null,
      "outputs": []
    },
    {
      "cell_type": "code",
      "source": [
        "from statsmodels.graphics.tsaplots import plot_acf, plot_pacf\n",
        "\n",
        "plt.figure(figsize=(15,6))\n",
        "plt.rcParams['figure.figsize'] = (15,6)\n",
        "# plt.subplot(121);\n",
        "plot_acf(difference_boxcox);\n",
        "\n",
        "# plt.subplot(122)\n",
        "plot_pacf(difference_boxcox);"
      ],
      "metadata": {
        "id": "kXI40P-fDFTP"
      },
      "execution_count": null,
      "outputs": []
    },
    {
      "cell_type": "markdown",
      "source": [
        "## Model Development"
      ],
      "metadata": {
        "id": "flF_8c2CiWs4"
      }
    },
    {
      "cell_type": "markdown",
      "source": [
        "### **1. Splitting Dataset menjadi Data Train dan Data Test**"
      ],
      "metadata": {
        "id": "6ENyXD_Aihmx"
      }
    },
    {
      "cell_type": "code",
      "source": [
        "from statsmodels.tsa.api import ARIMA\n",
        "\n",
        "ts = difference_boxcox\n",
        "split = int(.8 * len(ts))\n",
        "train, test = ts[:split], ts[split:]"
      ],
      "metadata": {
        "id": "zBW-TiIOoWI1"
      },
      "execution_count": null,
      "outputs": []
    },
    {
      "cell_type": "markdown",
      "source": [
        "### **2. Pembuatan Model ARIMA**"
      ],
      "metadata": {
        "id": "RUbx5YLToWrz"
      }
    },
    {
      "cell_type": "code",
      "source": [
        "model = ARIMA(train, order=(1,1,1))\n",
        "fit_model = model.fit()\n",
        "print(fit_model.summary())\n",
        "\"\"\"\n",
        "import pmdarima as pm\n",
        "\n",
        "# Create model\n",
        "model = pm.auto_arima(difference_boxcox, seasonal=False, suppress_warnings=True)\n",
        "\n",
        "# Print model summary\n",
        "print(model.summary())\n",
        "\"\"\"\n"
      ],
      "metadata": {
        "id": "vkOfWBcXrwv_"
      },
      "execution_count": null,
      "outputs": []
    },
    {
      "cell_type": "code",
      "source": [
        "fit_model.forecast()[:1]"
      ],
      "metadata": {
        "id": "7qIZBDwRaoKD"
      },
      "execution_count": null,
      "outputs": []
    },
    {
      "cell_type": "markdown",
      "source": [
        "#### **a. Prediksi Data**"
      ],
      "metadata": {
        "id": "DlNOBbH4rxJc"
      }
    },
    {
      "cell_type": "code",
      "source": [],
      "metadata": {
        "id": "WaO-5AkxsOPu"
      },
      "execution_count": null,
      "outputs": []
    },
    {
      "cell_type": "markdown",
      "source": [
        "#### **b. Bandingkan Skor Akurasi Data Test dan Train**"
      ],
      "metadata": {
        "id": "rUCqWbxNsQP0"
      }
    },
    {
      "cell_type": "code",
      "source": [
        "from sklearn.metrics import mean_squared_error\n",
        "import math\n",
        "\n",
        "\n",
        "ts = difference_boxcox\n",
        "split = int(.8 * len(ts))\n",
        "train, test = ts[:split], ts[split:]\n",
        "history = [i for i in train]\n",
        "pred = []\n",
        "\n",
        "for i in range(len(test)):\n",
        "  model = ARIMA(history, order=(1,1,1))\n",
        "  fit_model = model.fit()\n",
        "  temp = fit_model.forecast()[:1]\n",
        "  pred.append(temp)\n",
        "  history.append(test.iloc[i])\n",
        "\n",
        "mse = mean_squared_error(test, pred)\n",
        "rmse = math.sqrt(mse)\n"
      ],
      "metadata": {
        "id": "Pof3fsRxsnfq"
      },
      "execution_count": null,
      "outputs": []
    },
    {
      "cell_type": "code",
      "source": [
        "print(\"nilai mse : \",mse)\n",
        "print(\"nilai rmse : \",rmse)"
      ],
      "metadata": {
        "id": "GXVnFKtzHipa"
      },
      "execution_count": null,
      "outputs": []
    },
    {
      "cell_type": "code",
      "source": [
        "forecast = fit_model.forecast(steps=1)\n",
        "\n",
        "# Print forecasted value\n",
        "print('One-day forecast:', forecast[0])"
      ],
      "metadata": {
        "id": "Sg3PdjTVtZkn"
      },
      "execution_count": null,
      "outputs": []
    },
    {
      "cell_type": "markdown",
      "source": [
        "#### **c. Cek Overfitting dan underfittingnya**"
      ],
      "metadata": {
        "id": "xJkdVt0esn1z"
      }
    },
    {
      "cell_type": "code",
      "source": [
        "# Split data into train and test sets\n",
        "train_size = int(len(ts) * 0.8)\n",
        "train, test = ts[0:train_size], ts[train_size:]\n",
        "\n",
        "# Fit ARIMA model on training data\n",
        "model = ARIMA(train, order=(1,1,1))\n",
        "model_fit = model.fit()\n",
        "\n",
        "# Generate predictions on train and test data\n",
        "train_pred = model_fit.predict(start=1, end=len(train), typ='levels')\n",
        "test_pred = model_fit.predict(start=len(train), end=len(ts)-1, typ='levels')\n",
        "\n",
        "# Evaluate performance on train and test data\n",
        "train_mse = mean_squared_error(train, train_pred)\n",
        "test_mse = mean_squared_error(test, test_pred)\n",
        "\n",
        "train_rmse = np.sqrt(train_mse)\n",
        "test_rmse = np.sqrt(test_mse)\n",
        "\n",
        "print(f'Train MSE: {train_mse:.6f}, Train RMSE: {train_rmse:.4f}')\n",
        "print(f'Test MSE: {test_mse:.6f}, Test RMSE: {test_rmse:.4f}')\n"
      ],
      "metadata": {
        "id": "l1QYSZ3Wswvr"
      },
      "execution_count": null,
      "outputs": []
    },
    {
      "cell_type": "code",
      "source": [
        "# Plot train data and train predictions\n",
        "plt.figure(figsize=(12,6))\n",
        "plt.plot(train.index, train, label='Train Data')\n",
        "plt.plot(train_pred.index, train_pred, label='Train Predictions')\n",
        "\n",
        "# Plot test data and test predictions\n",
        "plt.plot(test.index, test, label='Test Data')\n",
        "plt.plot(test_pred.index, test_pred, label='Test Predictions')\n",
        "\n",
        "# Set title and labels\n",
        "plt.title('ARIMA Model Predictions')\n",
        "plt.xlabel('Date')\n",
        "plt.ylabel('Value')\n",
        "\n",
        "# Set legend\n",
        "plt.legend()\n",
        "\n",
        "# Show plot\n",
        "plt.show()\n"
      ],
      "metadata": {
        "id": "JRDUYVKyXraL"
      },
      "execution_count": null,
      "outputs": []
    },
    {
      "cell_type": "markdown",
      "source": [
        "### **3. Pembuatan Model LSTM**"
      ],
      "metadata": {
        "id": "8vO7tOr4sxNL"
      }
    },
    {
      "cell_type": "code",
      "source": [
        "df_LSTM = pd.DataFrame(df.drop('Adj Close Box-Cox', axis=1))\n",
        "df_LSTM"
      ],
      "metadata": {
        "id": "NLiFk2vXs5vC"
      },
      "execution_count": null,
      "outputs": []
    },
    {
      "cell_type": "code",
      "source": [
        "df_LSTM.head()"
      ],
      "metadata": {
        "id": "Exsjl_Mr39Gg"
      },
      "execution_count": null,
      "outputs": []
    },
    {
      "cell_type": "code",
      "source": [
        "test.shape"
      ],
      "metadata": {
        "id": "DRTVJF8rcFX-"
      },
      "execution_count": null,
      "outputs": []
    },
    {
      "cell_type": "code",
      "source": [
        "from sklearn.preprocessing import MinMaxScaler\n",
        "from keras.models import Sequential\n",
        "from keras.layers import Dense, LSTM, Input\n",
        "from tensorflow.keras.optimizers import Adam\n",
        "from tensorflow.keras import layers"
      ],
      "metadata": {
        "id": "Gl82y0q0PgIv"
      },
      "execution_count": null,
      "outputs": []
    },
    {
      "cell_type": "code",
      "source": [
        "df_lag = pd.DataFrame(index=df_LSTM.index)\n",
        "df_lag['Adj Close Lag1'] = df_LSTM['Adj Close'].shift(1)"
      ],
      "metadata": {
        "id": "KaDqLNI3Vms1"
      },
      "execution_count": null,
      "outputs": []
    },
    {
      "cell_type": "code",
      "source": [
        " df_new = df.join(df_lag)"
      ],
      "metadata": {
        "id": "qraSBV0GZUSV"
      },
      "execution_count": null,
      "outputs": []
    },
    {
      "cell_type": "code",
      "source": [
        "scaler = MinMaxScaler()\n",
        "df_new[['Adj Close', 'Adj Close Lag1']] = scaler.fit_transform(df_new[['Adj Close', 'Adj Close Lag1']])\n",
        "df_new.dropna(inplace=True)"
      ],
      "metadata": {
        "id": "DxVL39RRXyV_"
      },
      "execution_count": null,
      "outputs": []
    },
    {
      "cell_type": "code",
      "source": [
        "df_new = df_new.drop('Adj Close Box-Cox', axis=1)\n",
        "df_new"
      ],
      "metadata": {
        "id": "gOkplfgJmxud"
      },
      "execution_count": null,
      "outputs": []
    },
    {
      "cell_type": "code",
      "source": [
        "def prepare_data_for_lstm(df_new, lag=1):\n",
        "    X, y = [], []\n",
        "    for i in range(len(df_new)-lag):\n",
        "        X.append(df_new[i:(i+lag), 0])\n",
        "        y.append(df_new[i + lag, 0])\n",
        "    X = np.array(X)\n",
        "    y = np.array(y).reshape(-1, 1)  # ubah bentuk y menjadi (n, 1)\n",
        "    return X, y"
      ],
      "metadata": {
        "id": "J8-8vmVXg6Sq"
      },
      "execution_count": null,
      "outputs": []
    },
    {
      "cell_type": "code",
      "source": [
        "lag = 1\n",
        "X, y = prepare_data_for_lstm(df_new[['Adj Close', 'Adj Close Lag1']].values, lag)\n",
        "train_size = int(len(X) * 0.8)\n",
        "X_train, y_train = X[:train_size], y[:train_size]\n",
        "X_val, y_val = X[train_size:], y[train_size:]\n",
        "X_train = X_train.reshape(X_train.shape[0], X_train.shape[1], 1)\n",
        "X_val = X_val.reshape(X_val.shape[0], X_val.shape[1], 1)"
      ],
      "metadata": {
        "id": "APH_IPuPhE_s"
      },
      "execution_count": null,
      "outputs": []
    },
    {
      "cell_type": "code",
      "source": [
        "model = Sequential([Input((lag, 1)),\n",
        "                    LSTM(64),\n",
        "                    Dense(32, activation='relu'),\n",
        "                    Dense(32, activation='relu'),\n",
        "                    Dense(1)\n",
        "])\n",
        "\n",
        "model.compile(loss='mse', \n",
        "              optimizer=Adam(learning_rate=0.05),\n",
        "              metrics=['mean_absolute_error'])\n",
        "\n",
        "model.fit(X_train, y_train, validation_data=(X_val, y_val), epochs=10, batch_size = 32)"
      ],
      "metadata": {
        "id": "0pVr-2Utcu2P"
      },
      "execution_count": null,
      "outputs": []
    },
    {
      "cell_type": "markdown",
      "source": [
        "#### **a. Prediksi Data**"
      ],
      "metadata": {
        "id": "BKictwtCs59k"
      }
    },
    {
      "cell_type": "code",
      "source": [
        "y_train_pred = model.predict(X_train)\n",
        "y_val_pred = model.predict(X_val)\n",
        "y_train_pred.shape"
      ],
      "metadata": {
        "id": "Q7F4AbylzOUf"
      },
      "execution_count": null,
      "outputs": []
    },
    {
      "cell_type": "code",
      "source": [
        "y_val_pred.shape"
      ],
      "metadata": {
        "id": "OGc4L1t0zQuj"
      },
      "execution_count": null,
      "outputs": []
    },
    {
      "cell_type": "code",
      "source": [
        "df_LSTM.head()"
      ],
      "metadata": {
        "id": "XtonqAei0xwq"
      },
      "execution_count": null,
      "outputs": []
    },
    {
      "cell_type": "code",
      "source": [
        "date = df_LSTM.reset_index(inplace=True)"
      ],
      "metadata": {
        "id": "yu-hlDG1u19d"
      },
      "execution_count": null,
      "outputs": []
    },
    {
      "cell_type": "code",
      "source": [
        "date = df_LSTM['Date'].values\n",
        "date = date.reshape(-1,1)\n",
        "date.shape"
      ],
      "metadata": {
        "id": "8_pWh_yR1FkJ"
      },
      "execution_count": null,
      "outputs": []
    },
    {
      "cell_type": "code",
      "source": [
        "y_train = y_train.reshape(-1,1)\n",
        "y_train.shape"
      ],
      "metadata": {
        "id": "TFhm0xtOfTDy"
      },
      "execution_count": null,
      "outputs": []
    },
    {
      "cell_type": "code",
      "source": [
        "y_val = y_val.reshape(-1,1)\n",
        "y_val.shape"
      ],
      "metadata": {
        "id": "2EMQtPswfe3k"
      },
      "execution_count": null,
      "outputs": []
    },
    {
      "cell_type": "code",
      "source": [
        "df_new.head()"
      ],
      "metadata": {
        "id": "vKaj_fMb1CCd"
      },
      "execution_count": null,
      "outputs": []
    },
    {
      "cell_type": "code",
      "source": [
        "newdata=df_new.values"
      ],
      "metadata": {
        "id": "mlOJ2ZqHnv8u"
      },
      "execution_count": null,
      "outputs": []
    },
    {
      "cell_type": "code",
      "source": [
        "newdata=newdata.reshape(-1,1)"
      ],
      "metadata": {
        "id": "6T_3NV7H5Ebn"
      },
      "execution_count": null,
      "outputs": []
    },
    {
      "cell_type": "code",
      "source": [
        "newdata.shape"
      ],
      "metadata": {
        "id": "AJttE_Jj5TGN"
      },
      "execution_count": null,
      "outputs": []
    },
    {
      "cell_type": "code",
      "source": [
        "import matplotlib.pyplot as plt\n",
        "\n",
        "# select dates for the plots\n",
        "date_train = date[:1135]\n",
        "date_val = date[-284:]\n",
        "\n",
        "# plot the actual and predicted values for train and validation sets\n",
        "plt.figure(figsize=(15, 5))\n",
        "plt.plot(date_train, y_train, label='Actual Train')\n",
        "plt.plot(date_train, y_train_pred, label='Predicted Train')\n",
        "plt.plot(date_val, y_val, label='Actual Validation')\n",
        "plt.plot(date_val, y_val_pred, label='Predicted Validation')\n",
        "plt.title('PT. Telkom Stock Price Prediction')\n",
        "plt.xlabel('Date')\n",
        "plt.ylabel('Stock Price')\n",
        "plt.legend()\n",
        "plt.show()\n"
      ],
      "metadata": {
        "id": "07DafSzKzshY"
      },
      "execution_count": null,
      "outputs": []
    },
    {
      "cell_type": "code",
      "source": [
        "train_size"
      ],
      "metadata": {
        "id": "oOHrkequzyKw"
      },
      "execution_count": null,
      "outputs": []
    },
    {
      "cell_type": "code",
      "source": [
        "import numpy as np\n",
        "\n",
        "# predicting next day\n",
        "prediction_days = 60\n",
        "real_data = [newdata[len(newdata)+1 - prediction_days:len(newdata+1), 0]]\n",
        "real_data = np.array(real_data)\n",
        "real_data = np.reshape(real_data, (real_data.shape[0], real_data.shape[1], 1))\n"
      ],
      "metadata": {
        "id": "qGXUtuS9p96h"
      },
      "execution_count": null,
      "outputs": []
    },
    {
      "cell_type": "code",
      "source": [
        "real_data.shape"
      ],
      "metadata": {
        "id": "JvM2lYR27jJQ"
      },
      "execution_count": null,
      "outputs": []
    },
    {
      "cell_type": "code",
      "source": [
        "prediction = model.predict(real_data)\n",
        "prediction"
      ],
      "metadata": {
        "id": "o6tdBJbI7Xm9"
      },
      "execution_count": null,
      "outputs": []
    },
    {
      "cell_type": "code",
      "source": [
        "prediction = np.array([prediction[0, 0], 0])\n",
        "prediction = scaler.inverse_transform([prediction])\n",
        "prediction = prediction[0, 0]\n",
        "print(f\"prediction: {prediction}\")"
      ],
      "metadata": {
        "id": "U2NVEta77r7e"
      },
      "execution_count": null,
      "outputs": []
    },
    {
      "cell_type": "markdown",
      "source": [
        "#### **b. Bandingkan Skor Akurasi Data Test dan Train**"
      ],
      "metadata": {
        "id": "Muy5pjUis70L"
      }
    },
    {
      "cell_type": "code",
      "source": [
        "train_loss, train_mae = model.evaluate(X_train, y_train, verbose=0)\n",
        "val_loss, val_mae = model.evaluate(X_val, y_val, verbose=0)\n",
        "print('Train Loss: {:.4f}'.format(train_loss))\n",
        "print('Validation Loss: {:.4f}'.format(val_loss))\n",
        "print('Train MAE: {:.4f}'.format(train_mae))\n",
        "print('Validation MAE: {:.4f}'.format(val_mae))"
      ],
      "metadata": {
        "id": "OXA3j0Jps-bn"
      },
      "execution_count": null,
      "outputs": []
    },
    {
      "cell_type": "markdown",
      "source": [
        "#### **c. Cek Overfitting dan underfittingnya**"
      ],
      "metadata": {
        "id": "RnUFCnvSs-rC"
      }
    },
    {
      "cell_type": "code",
      "source": [
        "import matplotlib.pyplot as plt\n",
        "\n",
        "history = model.fit(X_train, y_train, validation_data=(X_val, y_val), epochs=25)\n",
        "\n",
        "train_loss = history.history['loss']\n",
        "val_loss = history.history['val_loss']\n",
        "epochs = range(1, len(train_loss) + 1)\n",
        "\n",
        "plt.plot(epochs, train_loss, 'bo', label='Training loss')\n",
        "plt.plot(epochs, val_loss, 'b', label='Validation loss')\n",
        "plt.title('Training and validation loss')\n",
        "plt.xlabel('Epochs')\n",
        "plt.ylabel('Loss')\n",
        "plt.legend()\n",
        "plt.show()\n"
      ],
      "metadata": {
        "id": "9LLcVPRQtDU8"
      },
      "execution_count": null,
      "outputs": []
    },
    {
      "cell_type": "markdown",
      "source": [
        "## Conclusion"
      ],
      "metadata": {
        "id": "q_72ANx_0A0G"
      }
    },
    {
      "cell_type": "markdown",
      "source": [
        "Didapatkan Kesimpulan nilai \n",
        "*   MSE pada ARIMA sebesar :\n",
        "\n",
        "    nilai mse :  0.0006948381605498469\n",
        "    \n",
        "    nilai rmse :  0.026359783014088846\n",
        "\n",
        "*   MSE pada LSTM sebesar :\n",
        "\n",
        "    Train Loss: 0.0006\n",
        "\n",
        "    Validation Loss: 0.0012\n",
        "    \n",
        "Jika dilihat berdasarkan mse=loss pada kedua metode tersebut dapat disimpulkan bahwasannya penggunaan Deep Learning (LSTM) tidak selalu memiliki performa yang jauh lebih baik dibandingkan ARIMA yang merupakan metode Machine Learning. untuk beberapa dataset yang tidak terlalu kompleks penggunaan ARIMA sudah sangat dapat digunakan untuk melakukan forecasting\n",
        "\n"
      ],
      "metadata": {
        "id": "n6PywcBs3eaJ"
      }
    }
  ],
  "metadata": {
    "colab": {
      "toc_visible": true,
      "provenance": [],
      "private_outputs": true
    },
    "kernelspec": {
      "display_name": "Python 3",
      "name": "python3"
    },
    "language_info": {
      "name": "python"
    },
    "accelerator": "GPU",
    "gpuClass": "standard"
  },
  "nbformat": 4,
  "nbformat_minor": 0
}